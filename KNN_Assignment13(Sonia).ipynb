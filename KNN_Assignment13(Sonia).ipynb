{
  "nbformat": 4,
  "nbformat_minor": 0,
  "metadata": {
    "colab": {
      "provenance": [],
      "include_colab_link": true
    },
    "kernelspec": {
      "name": "python3",
      "display_name": "Python 3"
    },
    "language_info": {
      "name": "python"
    }
  },
  "cells": [
    {
      "cell_type": "markdown",
      "metadata": {
        "id": "view-in-github",
        "colab_type": "text"
      },
      "source": [
        "<a href=\"https://colab.research.google.com/github/iamsonia9/Web_scrap/blob/main/KNN_Assignment13(Sonia).ipynb\" target=\"_parent\"><img src=\"https://colab.research.google.com/assets/colab-badge.svg\" alt=\"Open In Colab\"/></a>"
      ]
    },
    {
      "cell_type": "code",
      "metadata": {
        "id": "JolSMtbOfmc9"
      },
      "source": [
        "#Social_Networks_Ads.csv"
      ],
      "execution_count": 350,
      "outputs": []
    },
    {
      "cell_type": "markdown",
      "metadata": {
        "id": "h_3tQC1Kf0ut"
      },
      "source": [
        "**Importing the libraries**"
      ]
    },
    {
      "cell_type": "code",
      "source": [
        "!pip install mlxtend"
      ],
      "metadata": {
        "colab": {
          "base_uri": "https://localhost:8080/"
        },
        "id": "-g4ouRZUKs4R",
        "outputId": "560a9d36-edd6-43d5-c489-ab7f9bcb183a"
      },
      "execution_count": 351,
      "outputs": [
        {
          "output_type": "stream",
          "name": "stdout",
          "text": [
            "Looking in indexes: https://pypi.org/simple, https://us-python.pkg.dev/colab-wheels/public/simple/\n",
            "Requirement already satisfied: mlxtend in /usr/local/lib/python3.8/dist-packages (0.14.0)\n",
            "Requirement already satisfied: setuptools in /usr/local/lib/python3.8/dist-packages (from mlxtend) (57.4.0)\n",
            "Requirement already satisfied: scipy>=0.17 in /usr/local/lib/python3.8/dist-packages (from mlxtend) (1.7.3)\n",
            "Requirement already satisfied: numpy>=1.10.4 in /usr/local/lib/python3.8/dist-packages (from mlxtend) (1.21.6)\n",
            "Requirement already satisfied: pandas>=0.17.1 in /usr/local/lib/python3.8/dist-packages (from mlxtend) (1.3.5)\n",
            "Requirement already satisfied: matplotlib>=1.5.1 in /usr/local/lib/python3.8/dist-packages (from mlxtend) (3.2.2)\n",
            "Requirement already satisfied: scikit-learn>=0.18 in /usr/local/lib/python3.8/dist-packages (from mlxtend) (1.0.2)\n",
            "Requirement already satisfied: kiwisolver>=1.0.1 in /usr/local/lib/python3.8/dist-packages (from matplotlib>=1.5.1->mlxtend) (1.4.4)\n",
            "Requirement already satisfied: python-dateutil>=2.1 in /usr/local/lib/python3.8/dist-packages (from matplotlib>=1.5.1->mlxtend) (2.8.2)\n",
            "Requirement already satisfied: cycler>=0.10 in /usr/local/lib/python3.8/dist-packages (from matplotlib>=1.5.1->mlxtend) (0.11.0)\n",
            "Requirement already satisfied: pyparsing!=2.0.4,!=2.1.2,!=2.1.6,>=2.0.1 in /usr/local/lib/python3.8/dist-packages (from matplotlib>=1.5.1->mlxtend) (3.0.9)\n",
            "Requirement already satisfied: pytz>=2017.3 in /usr/local/lib/python3.8/dist-packages (from pandas>=0.17.1->mlxtend) (2022.6)\n",
            "Requirement already satisfied: six>=1.5 in /usr/local/lib/python3.8/dist-packages (from python-dateutil>=2.1->matplotlib>=1.5.1->mlxtend) (1.15.0)\n",
            "Requirement already satisfied: joblib>=0.11 in /usr/local/lib/python3.8/dist-packages (from scikit-learn>=0.18->mlxtend) (1.2.0)\n",
            "Requirement already satisfied: threadpoolctl>=2.0.0 in /usr/local/lib/python3.8/dist-packages (from scikit-learn>=0.18->mlxtend) (3.1.0)\n"
          ]
        }
      ]
    },
    {
      "cell_type": "code",
      "metadata": {
        "id": "EObl2Z6IfyG4"
      },
      "source": [
        "import pandas as pd\n",
        "import numpy as np\n",
        "import seaborn as sns\n",
        "import matplotlib.pyplot as plt\n",
        "from sklearn.neighbors import KNeighborsClassifier\n",
        "from sklearn.linear_model import LogisticRegression\n",
        "from mlxtend.plotting import plot_decision_regions\n",
        "from sklearn.model_selection import cross_val_score\n",
        "from sklearn.model_selection import train_test_split\n"
      ],
      "execution_count": 352,
      "outputs": []
    },
    {
      "cell_type": "markdown",
      "metadata": {
        "id": "yxzr0NOWf73l"
      },
      "source": [
        "**Importing the dataset**"
      ]
    },
    {
      "cell_type": "code",
      "metadata": {
        "id": "nN9xC2r6fyMZ",
        "colab": {
          "base_uri": "https://localhost:8080/",
          "height": 424
        },
        "outputId": "99f2bdaf-6669-4b37-b253-2866ccf4e0ea"
      },
      "source": [
        "df = pd.read_csv(\"/content/Social_Network_Ads (1).csv\")\n",
        "df"
      ],
      "execution_count": 353,
      "outputs": [
        {
          "output_type": "execute_result",
          "data": {
            "text/plain": [
              "      User ID  Gender  Age  EstimatedSalary  Purchased\n",
              "0    15624510    Male   19            19000          0\n",
              "1    15810944    Male   35            20000          0\n",
              "2    15668575  Female   26            43000          0\n",
              "3    15603246  Female   27            57000          0\n",
              "4    15804002    Male   19            76000          0\n",
              "..        ...     ...  ...              ...        ...\n",
              "395  15691863  Female   46            41000          1\n",
              "396  15706071    Male   51            23000          1\n",
              "397  15654296  Female   50            20000          1\n",
              "398  15755018    Male   36            33000          0\n",
              "399  15594041  Female   49            36000          1\n",
              "\n",
              "[400 rows x 5 columns]"
            ],
            "text/html": [
              "\n",
              "  <div id=\"df-da9a7a9e-cbaa-4bca-9124-1a6fba8bcc4b\">\n",
              "    <div class=\"colab-df-container\">\n",
              "      <div>\n",
              "<style scoped>\n",
              "    .dataframe tbody tr th:only-of-type {\n",
              "        vertical-align: middle;\n",
              "    }\n",
              "\n",
              "    .dataframe tbody tr th {\n",
              "        vertical-align: top;\n",
              "    }\n",
              "\n",
              "    .dataframe thead th {\n",
              "        text-align: right;\n",
              "    }\n",
              "</style>\n",
              "<table border=\"1\" class=\"dataframe\">\n",
              "  <thead>\n",
              "    <tr style=\"text-align: right;\">\n",
              "      <th></th>\n",
              "      <th>User ID</th>\n",
              "      <th>Gender</th>\n",
              "      <th>Age</th>\n",
              "      <th>EstimatedSalary</th>\n",
              "      <th>Purchased</th>\n",
              "    </tr>\n",
              "  </thead>\n",
              "  <tbody>\n",
              "    <tr>\n",
              "      <th>0</th>\n",
              "      <td>15624510</td>\n",
              "      <td>Male</td>\n",
              "      <td>19</td>\n",
              "      <td>19000</td>\n",
              "      <td>0</td>\n",
              "    </tr>\n",
              "    <tr>\n",
              "      <th>1</th>\n",
              "      <td>15810944</td>\n",
              "      <td>Male</td>\n",
              "      <td>35</td>\n",
              "      <td>20000</td>\n",
              "      <td>0</td>\n",
              "    </tr>\n",
              "    <tr>\n",
              "      <th>2</th>\n",
              "      <td>15668575</td>\n",
              "      <td>Female</td>\n",
              "      <td>26</td>\n",
              "      <td>43000</td>\n",
              "      <td>0</td>\n",
              "    </tr>\n",
              "    <tr>\n",
              "      <th>3</th>\n",
              "      <td>15603246</td>\n",
              "      <td>Female</td>\n",
              "      <td>27</td>\n",
              "      <td>57000</td>\n",
              "      <td>0</td>\n",
              "    </tr>\n",
              "    <tr>\n",
              "      <th>4</th>\n",
              "      <td>15804002</td>\n",
              "      <td>Male</td>\n",
              "      <td>19</td>\n",
              "      <td>76000</td>\n",
              "      <td>0</td>\n",
              "    </tr>\n",
              "    <tr>\n",
              "      <th>...</th>\n",
              "      <td>...</td>\n",
              "      <td>...</td>\n",
              "      <td>...</td>\n",
              "      <td>...</td>\n",
              "      <td>...</td>\n",
              "    </tr>\n",
              "    <tr>\n",
              "      <th>395</th>\n",
              "      <td>15691863</td>\n",
              "      <td>Female</td>\n",
              "      <td>46</td>\n",
              "      <td>41000</td>\n",
              "      <td>1</td>\n",
              "    </tr>\n",
              "    <tr>\n",
              "      <th>396</th>\n",
              "      <td>15706071</td>\n",
              "      <td>Male</td>\n",
              "      <td>51</td>\n",
              "      <td>23000</td>\n",
              "      <td>1</td>\n",
              "    </tr>\n",
              "    <tr>\n",
              "      <th>397</th>\n",
              "      <td>15654296</td>\n",
              "      <td>Female</td>\n",
              "      <td>50</td>\n",
              "      <td>20000</td>\n",
              "      <td>1</td>\n",
              "    </tr>\n",
              "    <tr>\n",
              "      <th>398</th>\n",
              "      <td>15755018</td>\n",
              "      <td>Male</td>\n",
              "      <td>36</td>\n",
              "      <td>33000</td>\n",
              "      <td>0</td>\n",
              "    </tr>\n",
              "    <tr>\n",
              "      <th>399</th>\n",
              "      <td>15594041</td>\n",
              "      <td>Female</td>\n",
              "      <td>49</td>\n",
              "      <td>36000</td>\n",
              "      <td>1</td>\n",
              "    </tr>\n",
              "  </tbody>\n",
              "</table>\n",
              "<p>400 rows × 5 columns</p>\n",
              "</div>\n",
              "      <button class=\"colab-df-convert\" onclick=\"convertToInteractive('df-da9a7a9e-cbaa-4bca-9124-1a6fba8bcc4b')\"\n",
              "              title=\"Convert this dataframe to an interactive table.\"\n",
              "              style=\"display:none;\">\n",
              "        \n",
              "  <svg xmlns=\"http://www.w3.org/2000/svg\" height=\"24px\"viewBox=\"0 0 24 24\"\n",
              "       width=\"24px\">\n",
              "    <path d=\"M0 0h24v24H0V0z\" fill=\"none\"/>\n",
              "    <path d=\"M18.56 5.44l.94 2.06.94-2.06 2.06-.94-2.06-.94-.94-2.06-.94 2.06-2.06.94zm-11 1L8.5 8.5l.94-2.06 2.06-.94-2.06-.94L8.5 2.5l-.94 2.06-2.06.94zm10 10l.94 2.06.94-2.06 2.06-.94-2.06-.94-.94-2.06-.94 2.06-2.06.94z\"/><path d=\"M17.41 7.96l-1.37-1.37c-.4-.4-.92-.59-1.43-.59-.52 0-1.04.2-1.43.59L10.3 9.45l-7.72 7.72c-.78.78-.78 2.05 0 2.83L4 21.41c.39.39.9.59 1.41.59.51 0 1.02-.2 1.41-.59l7.78-7.78 2.81-2.81c.8-.78.8-2.07 0-2.86zM5.41 20L4 18.59l7.72-7.72 1.47 1.35L5.41 20z\"/>\n",
              "  </svg>\n",
              "      </button>\n",
              "      \n",
              "  <style>\n",
              "    .colab-df-container {\n",
              "      display:flex;\n",
              "      flex-wrap:wrap;\n",
              "      gap: 12px;\n",
              "    }\n",
              "\n",
              "    .colab-df-convert {\n",
              "      background-color: #E8F0FE;\n",
              "      border: none;\n",
              "      border-radius: 50%;\n",
              "      cursor: pointer;\n",
              "      display: none;\n",
              "      fill: #1967D2;\n",
              "      height: 32px;\n",
              "      padding: 0 0 0 0;\n",
              "      width: 32px;\n",
              "    }\n",
              "\n",
              "    .colab-df-convert:hover {\n",
              "      background-color: #E2EBFA;\n",
              "      box-shadow: 0px 1px 2px rgba(60, 64, 67, 0.3), 0px 1px 3px 1px rgba(60, 64, 67, 0.15);\n",
              "      fill: #174EA6;\n",
              "    }\n",
              "\n",
              "    [theme=dark] .colab-df-convert {\n",
              "      background-color: #3B4455;\n",
              "      fill: #D2E3FC;\n",
              "    }\n",
              "\n",
              "    [theme=dark] .colab-df-convert:hover {\n",
              "      background-color: #434B5C;\n",
              "      box-shadow: 0px 1px 3px 1px rgba(0, 0, 0, 0.15);\n",
              "      filter: drop-shadow(0px 1px 2px rgba(0, 0, 0, 0.3));\n",
              "      fill: #FFFFFF;\n",
              "    }\n",
              "  </style>\n",
              "\n",
              "      <script>\n",
              "        const buttonEl =\n",
              "          document.querySelector('#df-da9a7a9e-cbaa-4bca-9124-1a6fba8bcc4b button.colab-df-convert');\n",
              "        buttonEl.style.display =\n",
              "          google.colab.kernel.accessAllowed ? 'block' : 'none';\n",
              "\n",
              "        async function convertToInteractive(key) {\n",
              "          const element = document.querySelector('#df-da9a7a9e-cbaa-4bca-9124-1a6fba8bcc4b');\n",
              "          const dataTable =\n",
              "            await google.colab.kernel.invokeFunction('convertToInteractive',\n",
              "                                                     [key], {});\n",
              "          if (!dataTable) return;\n",
              "\n",
              "          const docLinkHtml = 'Like what you see? Visit the ' +\n",
              "            '<a target=\"_blank\" href=https://colab.research.google.com/notebooks/data_table.ipynb>data table notebook</a>'\n",
              "            + ' to learn more about interactive tables.';\n",
              "          element.innerHTML = '';\n",
              "          dataTable['output_type'] = 'display_data';\n",
              "          await google.colab.output.renderOutput(dataTable, element);\n",
              "          const docLink = document.createElement('div');\n",
              "          docLink.innerHTML = docLinkHtml;\n",
              "          element.appendChild(docLink);\n",
              "        }\n",
              "      </script>\n",
              "    </div>\n",
              "  </div>\n",
              "  "
            ]
          },
          "metadata": {},
          "execution_count": 353
        }
      ]
    },
    {
      "cell_type": "code",
      "source": [
        "df.head()"
      ],
      "metadata": {
        "colab": {
          "base_uri": "https://localhost:8080/",
          "height": 206
        },
        "id": "cGybgm_7F6S1",
        "outputId": "095aa857-c01a-48c7-aeb5-6e42691d3cb1"
      },
      "execution_count": 354,
      "outputs": [
        {
          "output_type": "execute_result",
          "data": {
            "text/plain": [
              "    User ID  Gender  Age  EstimatedSalary  Purchased\n",
              "0  15624510    Male   19            19000          0\n",
              "1  15810944    Male   35            20000          0\n",
              "2  15668575  Female   26            43000          0\n",
              "3  15603246  Female   27            57000          0\n",
              "4  15804002    Male   19            76000          0"
            ],
            "text/html": [
              "\n",
              "  <div id=\"df-e9d9fc43-e6c0-423b-8f35-62ef2d6b0f0a\">\n",
              "    <div class=\"colab-df-container\">\n",
              "      <div>\n",
              "<style scoped>\n",
              "    .dataframe tbody tr th:only-of-type {\n",
              "        vertical-align: middle;\n",
              "    }\n",
              "\n",
              "    .dataframe tbody tr th {\n",
              "        vertical-align: top;\n",
              "    }\n",
              "\n",
              "    .dataframe thead th {\n",
              "        text-align: right;\n",
              "    }\n",
              "</style>\n",
              "<table border=\"1\" class=\"dataframe\">\n",
              "  <thead>\n",
              "    <tr style=\"text-align: right;\">\n",
              "      <th></th>\n",
              "      <th>User ID</th>\n",
              "      <th>Gender</th>\n",
              "      <th>Age</th>\n",
              "      <th>EstimatedSalary</th>\n",
              "      <th>Purchased</th>\n",
              "    </tr>\n",
              "  </thead>\n",
              "  <tbody>\n",
              "    <tr>\n",
              "      <th>0</th>\n",
              "      <td>15624510</td>\n",
              "      <td>Male</td>\n",
              "      <td>19</td>\n",
              "      <td>19000</td>\n",
              "      <td>0</td>\n",
              "    </tr>\n",
              "    <tr>\n",
              "      <th>1</th>\n",
              "      <td>15810944</td>\n",
              "      <td>Male</td>\n",
              "      <td>35</td>\n",
              "      <td>20000</td>\n",
              "      <td>0</td>\n",
              "    </tr>\n",
              "    <tr>\n",
              "      <th>2</th>\n",
              "      <td>15668575</td>\n",
              "      <td>Female</td>\n",
              "      <td>26</td>\n",
              "      <td>43000</td>\n",
              "      <td>0</td>\n",
              "    </tr>\n",
              "    <tr>\n",
              "      <th>3</th>\n",
              "      <td>15603246</td>\n",
              "      <td>Female</td>\n",
              "      <td>27</td>\n",
              "      <td>57000</td>\n",
              "      <td>0</td>\n",
              "    </tr>\n",
              "    <tr>\n",
              "      <th>4</th>\n",
              "      <td>15804002</td>\n",
              "      <td>Male</td>\n",
              "      <td>19</td>\n",
              "      <td>76000</td>\n",
              "      <td>0</td>\n",
              "    </tr>\n",
              "  </tbody>\n",
              "</table>\n",
              "</div>\n",
              "      <button class=\"colab-df-convert\" onclick=\"convertToInteractive('df-e9d9fc43-e6c0-423b-8f35-62ef2d6b0f0a')\"\n",
              "              title=\"Convert this dataframe to an interactive table.\"\n",
              "              style=\"display:none;\">\n",
              "        \n",
              "  <svg xmlns=\"http://www.w3.org/2000/svg\" height=\"24px\"viewBox=\"0 0 24 24\"\n",
              "       width=\"24px\">\n",
              "    <path d=\"M0 0h24v24H0V0z\" fill=\"none\"/>\n",
              "    <path d=\"M18.56 5.44l.94 2.06.94-2.06 2.06-.94-2.06-.94-.94-2.06-.94 2.06-2.06.94zm-11 1L8.5 8.5l.94-2.06 2.06-.94-2.06-.94L8.5 2.5l-.94 2.06-2.06.94zm10 10l.94 2.06.94-2.06 2.06-.94-2.06-.94-.94-2.06-.94 2.06-2.06.94z\"/><path d=\"M17.41 7.96l-1.37-1.37c-.4-.4-.92-.59-1.43-.59-.52 0-1.04.2-1.43.59L10.3 9.45l-7.72 7.72c-.78.78-.78 2.05 0 2.83L4 21.41c.39.39.9.59 1.41.59.51 0 1.02-.2 1.41-.59l7.78-7.78 2.81-2.81c.8-.78.8-2.07 0-2.86zM5.41 20L4 18.59l7.72-7.72 1.47 1.35L5.41 20z\"/>\n",
              "  </svg>\n",
              "      </button>\n",
              "      \n",
              "  <style>\n",
              "    .colab-df-container {\n",
              "      display:flex;\n",
              "      flex-wrap:wrap;\n",
              "      gap: 12px;\n",
              "    }\n",
              "\n",
              "    .colab-df-convert {\n",
              "      background-color: #E8F0FE;\n",
              "      border: none;\n",
              "      border-radius: 50%;\n",
              "      cursor: pointer;\n",
              "      display: none;\n",
              "      fill: #1967D2;\n",
              "      height: 32px;\n",
              "      padding: 0 0 0 0;\n",
              "      width: 32px;\n",
              "    }\n",
              "\n",
              "    .colab-df-convert:hover {\n",
              "      background-color: #E2EBFA;\n",
              "      box-shadow: 0px 1px 2px rgba(60, 64, 67, 0.3), 0px 1px 3px 1px rgba(60, 64, 67, 0.15);\n",
              "      fill: #174EA6;\n",
              "    }\n",
              "\n",
              "    [theme=dark] .colab-df-convert {\n",
              "      background-color: #3B4455;\n",
              "      fill: #D2E3FC;\n",
              "    }\n",
              "\n",
              "    [theme=dark] .colab-df-convert:hover {\n",
              "      background-color: #434B5C;\n",
              "      box-shadow: 0px 1px 3px 1px rgba(0, 0, 0, 0.15);\n",
              "      filter: drop-shadow(0px 1px 2px rgba(0, 0, 0, 0.3));\n",
              "      fill: #FFFFFF;\n",
              "    }\n",
              "  </style>\n",
              "\n",
              "      <script>\n",
              "        const buttonEl =\n",
              "          document.querySelector('#df-e9d9fc43-e6c0-423b-8f35-62ef2d6b0f0a button.colab-df-convert');\n",
              "        buttonEl.style.display =\n",
              "          google.colab.kernel.accessAllowed ? 'block' : 'none';\n",
              "\n",
              "        async function convertToInteractive(key) {\n",
              "          const element = document.querySelector('#df-e9d9fc43-e6c0-423b-8f35-62ef2d6b0f0a');\n",
              "          const dataTable =\n",
              "            await google.colab.kernel.invokeFunction('convertToInteractive',\n",
              "                                                     [key], {});\n",
              "          if (!dataTable) return;\n",
              "\n",
              "          const docLinkHtml = 'Like what you see? Visit the ' +\n",
              "            '<a target=\"_blank\" href=https://colab.research.google.com/notebooks/data_table.ipynb>data table notebook</a>'\n",
              "            + ' to learn more about interactive tables.';\n",
              "          element.innerHTML = '';\n",
              "          dataTable['output_type'] = 'display_data';\n",
              "          await google.colab.output.renderOutput(dataTable, element);\n",
              "          const docLink = document.createElement('div');\n",
              "          docLink.innerHTML = docLinkHtml;\n",
              "          element.appendChild(docLink);\n",
              "        }\n",
              "      </script>\n",
              "    </div>\n",
              "  </div>\n",
              "  "
            ]
          },
          "metadata": {},
          "execution_count": 354
        }
      ]
    },
    {
      "cell_type": "code",
      "metadata": {
        "id": "Z9gpSZOVfyPX",
        "colab": {
          "base_uri": "https://localhost:8080/"
        },
        "outputId": "6cad36d7-33e9-4083-a313-5800d43aa2ad"
      },
      "source": [
        "X = df.iloc[:,2:4].values\n",
        "X"
      ],
      "execution_count": 355,
      "outputs": [
        {
          "output_type": "execute_result",
          "data": {
            "text/plain": [
              "array([[    19,  19000],\n",
              "       [    35,  20000],\n",
              "       [    26,  43000],\n",
              "       [    27,  57000],\n",
              "       [    19,  76000],\n",
              "       [    27,  58000],\n",
              "       [    27,  84000],\n",
              "       [    32, 150000],\n",
              "       [    25,  33000],\n",
              "       [    35,  65000],\n",
              "       [    26,  80000],\n",
              "       [    26,  52000],\n",
              "       [    20,  86000],\n",
              "       [    32,  18000],\n",
              "       [    18,  82000],\n",
              "       [    29,  80000],\n",
              "       [    47,  25000],\n",
              "       [    45,  26000],\n",
              "       [    46,  28000],\n",
              "       [    48,  29000],\n",
              "       [    45,  22000],\n",
              "       [    47,  49000],\n",
              "       [    48,  41000],\n",
              "       [    45,  22000],\n",
              "       [    46,  23000],\n",
              "       [    47,  20000],\n",
              "       [    49,  28000],\n",
              "       [    47,  30000],\n",
              "       [    29,  43000],\n",
              "       [    31,  18000],\n",
              "       [    31,  74000],\n",
              "       [    27, 137000],\n",
              "       [    21,  16000],\n",
              "       [    28,  44000],\n",
              "       [    27,  90000],\n",
              "       [    35,  27000],\n",
              "       [    33,  28000],\n",
              "       [    30,  49000],\n",
              "       [    26,  72000],\n",
              "       [    27,  31000],\n",
              "       [    27,  17000],\n",
              "       [    33,  51000],\n",
              "       [    35, 108000],\n",
              "       [    30,  15000],\n",
              "       [    28,  84000],\n",
              "       [    23,  20000],\n",
              "       [    25,  79000],\n",
              "       [    27,  54000],\n",
              "       [    30, 135000],\n",
              "       [    31,  89000],\n",
              "       [    24,  32000],\n",
              "       [    18,  44000],\n",
              "       [    29,  83000],\n",
              "       [    35,  23000],\n",
              "       [    27,  58000],\n",
              "       [    24,  55000],\n",
              "       [    23,  48000],\n",
              "       [    28,  79000],\n",
              "       [    22,  18000],\n",
              "       [    32, 117000],\n",
              "       [    27,  20000],\n",
              "       [    25,  87000],\n",
              "       [    23,  66000],\n",
              "       [    32, 120000],\n",
              "       [    59,  83000],\n",
              "       [    24,  58000],\n",
              "       [    24,  19000],\n",
              "       [    23,  82000],\n",
              "       [    22,  63000],\n",
              "       [    31,  68000],\n",
              "       [    25,  80000],\n",
              "       [    24,  27000],\n",
              "       [    20,  23000],\n",
              "       [    33, 113000],\n",
              "       [    32,  18000],\n",
              "       [    34, 112000],\n",
              "       [    18,  52000],\n",
              "       [    22,  27000],\n",
              "       [    28,  87000],\n",
              "       [    26,  17000],\n",
              "       [    30,  80000],\n",
              "       [    39,  42000],\n",
              "       [    20,  49000],\n",
              "       [    35,  88000],\n",
              "       [    30,  62000],\n",
              "       [    31, 118000],\n",
              "       [    24,  55000],\n",
              "       [    28,  85000],\n",
              "       [    26,  81000],\n",
              "       [    35,  50000],\n",
              "       [    22,  81000],\n",
              "       [    30, 116000],\n",
              "       [    26,  15000],\n",
              "       [    29,  28000],\n",
              "       [    29,  83000],\n",
              "       [    35,  44000],\n",
              "       [    35,  25000],\n",
              "       [    28, 123000],\n",
              "       [    35,  73000],\n",
              "       [    28,  37000],\n",
              "       [    27,  88000],\n",
              "       [    28,  59000],\n",
              "       [    32,  86000],\n",
              "       [    33, 149000],\n",
              "       [    19,  21000],\n",
              "       [    21,  72000],\n",
              "       [    26,  35000],\n",
              "       [    27,  89000],\n",
              "       [    26,  86000],\n",
              "       [    38,  80000],\n",
              "       [    39,  71000],\n",
              "       [    37,  71000],\n",
              "       [    38,  61000],\n",
              "       [    37,  55000],\n",
              "       [    42,  80000],\n",
              "       [    40,  57000],\n",
              "       [    35,  75000],\n",
              "       [    36,  52000],\n",
              "       [    40,  59000],\n",
              "       [    41,  59000],\n",
              "       [    36,  75000],\n",
              "       [    37,  72000],\n",
              "       [    40,  75000],\n",
              "       [    35,  53000],\n",
              "       [    41,  51000],\n",
              "       [    39,  61000],\n",
              "       [    42,  65000],\n",
              "       [    26,  32000],\n",
              "       [    30,  17000],\n",
              "       [    26,  84000],\n",
              "       [    31,  58000],\n",
              "       [    33,  31000],\n",
              "       [    30,  87000],\n",
              "       [    21,  68000],\n",
              "       [    28,  55000],\n",
              "       [    23,  63000],\n",
              "       [    20,  82000],\n",
              "       [    30, 107000],\n",
              "       [    28,  59000],\n",
              "       [    19,  25000],\n",
              "       [    19,  85000],\n",
              "       [    18,  68000],\n",
              "       [    35,  59000],\n",
              "       [    30,  89000],\n",
              "       [    34,  25000],\n",
              "       [    24,  89000],\n",
              "       [    27,  96000],\n",
              "       [    41,  30000],\n",
              "       [    29,  61000],\n",
              "       [    20,  74000],\n",
              "       [    26,  15000],\n",
              "       [    41,  45000],\n",
              "       [    31,  76000],\n",
              "       [    36,  50000],\n",
              "       [    40,  47000],\n",
              "       [    31,  15000],\n",
              "       [    46,  59000],\n",
              "       [    29,  75000],\n",
              "       [    26,  30000],\n",
              "       [    32, 135000],\n",
              "       [    32, 100000],\n",
              "       [    25,  90000],\n",
              "       [    37,  33000],\n",
              "       [    35,  38000],\n",
              "       [    33,  69000],\n",
              "       [    18,  86000],\n",
              "       [    22,  55000],\n",
              "       [    35,  71000],\n",
              "       [    29, 148000],\n",
              "       [    29,  47000],\n",
              "       [    21,  88000],\n",
              "       [    34, 115000],\n",
              "       [    26, 118000],\n",
              "       [    34,  43000],\n",
              "       [    34,  72000],\n",
              "       [    23,  28000],\n",
              "       [    35,  47000],\n",
              "       [    25,  22000],\n",
              "       [    24,  23000],\n",
              "       [    31,  34000],\n",
              "       [    26,  16000],\n",
              "       [    31,  71000],\n",
              "       [    32, 117000],\n",
              "       [    33,  43000],\n",
              "       [    33,  60000],\n",
              "       [    31,  66000],\n",
              "       [    20,  82000],\n",
              "       [    33,  41000],\n",
              "       [    35,  72000],\n",
              "       [    28,  32000],\n",
              "       [    24,  84000],\n",
              "       [    19,  26000],\n",
              "       [    29,  43000],\n",
              "       [    19,  70000],\n",
              "       [    28,  89000],\n",
              "       [    34,  43000],\n",
              "       [    30,  79000],\n",
              "       [    20,  36000],\n",
              "       [    26,  80000],\n",
              "       [    35,  22000],\n",
              "       [    35,  39000],\n",
              "       [    49,  74000],\n",
              "       [    39, 134000],\n",
              "       [    41,  71000],\n",
              "       [    58, 101000],\n",
              "       [    47,  47000],\n",
              "       [    55, 130000],\n",
              "       [    52, 114000],\n",
              "       [    40, 142000],\n",
              "       [    46,  22000],\n",
              "       [    48,  96000],\n",
              "       [    52, 150000],\n",
              "       [    59,  42000],\n",
              "       [    35,  58000],\n",
              "       [    47,  43000],\n",
              "       [    60, 108000],\n",
              "       [    49,  65000],\n",
              "       [    40,  78000],\n",
              "       [    46,  96000],\n",
              "       [    59, 143000],\n",
              "       [    41,  80000],\n",
              "       [    35,  91000],\n",
              "       [    37, 144000],\n",
              "       [    60, 102000],\n",
              "       [    35,  60000],\n",
              "       [    37,  53000],\n",
              "       [    36, 126000],\n",
              "       [    56, 133000],\n",
              "       [    40,  72000],\n",
              "       [    42,  80000],\n",
              "       [    35, 147000],\n",
              "       [    39,  42000],\n",
              "       [    40, 107000],\n",
              "       [    49,  86000],\n",
              "       [    38, 112000],\n",
              "       [    46,  79000],\n",
              "       [    40,  57000],\n",
              "       [    37,  80000],\n",
              "       [    46,  82000],\n",
              "       [    53, 143000],\n",
              "       [    42, 149000],\n",
              "       [    38,  59000],\n",
              "       [    50,  88000],\n",
              "       [    56, 104000],\n",
              "       [    41,  72000],\n",
              "       [    51, 146000],\n",
              "       [    35,  50000],\n",
              "       [    57, 122000],\n",
              "       [    41,  52000],\n",
              "       [    35,  97000],\n",
              "       [    44,  39000],\n",
              "       [    37,  52000],\n",
              "       [    48, 134000],\n",
              "       [    37, 146000],\n",
              "       [    50,  44000],\n",
              "       [    52,  90000],\n",
              "       [    41,  72000],\n",
              "       [    40,  57000],\n",
              "       [    58,  95000],\n",
              "       [    45, 131000],\n",
              "       [    35,  77000],\n",
              "       [    36, 144000],\n",
              "       [    55, 125000],\n",
              "       [    35,  72000],\n",
              "       [    48,  90000],\n",
              "       [    42, 108000],\n",
              "       [    40,  75000],\n",
              "       [    37,  74000],\n",
              "       [    47, 144000],\n",
              "       [    40,  61000],\n",
              "       [    43, 133000],\n",
              "       [    59,  76000],\n",
              "       [    60,  42000],\n",
              "       [    39, 106000],\n",
              "       [    57,  26000],\n",
              "       [    57,  74000],\n",
              "       [    38,  71000],\n",
              "       [    49,  88000],\n",
              "       [    52,  38000],\n",
              "       [    50,  36000],\n",
              "       [    59,  88000],\n",
              "       [    35,  61000],\n",
              "       [    37,  70000],\n",
              "       [    52,  21000],\n",
              "       [    48, 141000],\n",
              "       [    37,  93000],\n",
              "       [    37,  62000],\n",
              "       [    48, 138000],\n",
              "       [    41,  79000],\n",
              "       [    37,  78000],\n",
              "       [    39, 134000],\n",
              "       [    49,  89000],\n",
              "       [    55,  39000],\n",
              "       [    37,  77000],\n",
              "       [    35,  57000],\n",
              "       [    36,  63000],\n",
              "       [    42,  73000],\n",
              "       [    43, 112000],\n",
              "       [    45,  79000],\n",
              "       [    46, 117000],\n",
              "       [    58,  38000],\n",
              "       [    48,  74000],\n",
              "       [    37, 137000],\n",
              "       [    37,  79000],\n",
              "       [    40,  60000],\n",
              "       [    42,  54000],\n",
              "       [    51, 134000],\n",
              "       [    47, 113000],\n",
              "       [    36, 125000],\n",
              "       [    38,  50000],\n",
              "       [    42,  70000],\n",
              "       [    39,  96000],\n",
              "       [    38,  50000],\n",
              "       [    49, 141000],\n",
              "       [    39,  79000],\n",
              "       [    39,  75000],\n",
              "       [    54, 104000],\n",
              "       [    35,  55000],\n",
              "       [    45,  32000],\n",
              "       [    36,  60000],\n",
              "       [    52, 138000],\n",
              "       [    53,  82000],\n",
              "       [    41,  52000],\n",
              "       [    48,  30000],\n",
              "       [    48, 131000],\n",
              "       [    41,  60000],\n",
              "       [    41,  72000],\n",
              "       [    42,  75000],\n",
              "       [    36, 118000],\n",
              "       [    47, 107000],\n",
              "       [    38,  51000],\n",
              "       [    48, 119000],\n",
              "       [    42,  65000],\n",
              "       [    40,  65000],\n",
              "       [    57,  60000],\n",
              "       [    36,  54000],\n",
              "       [    58, 144000],\n",
              "       [    35,  79000],\n",
              "       [    38,  55000],\n",
              "       [    39, 122000],\n",
              "       [    53, 104000],\n",
              "       [    35,  75000],\n",
              "       [    38,  65000],\n",
              "       [    47,  51000],\n",
              "       [    47, 105000],\n",
              "       [    41,  63000],\n",
              "       [    53,  72000],\n",
              "       [    54, 108000],\n",
              "       [    39,  77000],\n",
              "       [    38,  61000],\n",
              "       [    38, 113000],\n",
              "       [    37,  75000],\n",
              "       [    42,  90000],\n",
              "       [    37,  57000],\n",
              "       [    36,  99000],\n",
              "       [    60,  34000],\n",
              "       [    54,  70000],\n",
              "       [    41,  72000],\n",
              "       [    40,  71000],\n",
              "       [    42,  54000],\n",
              "       [    43, 129000],\n",
              "       [    53,  34000],\n",
              "       [    47,  50000],\n",
              "       [    42,  79000],\n",
              "       [    42, 104000],\n",
              "       [    59,  29000],\n",
              "       [    58,  47000],\n",
              "       [    46,  88000],\n",
              "       [    38,  71000],\n",
              "       [    54,  26000],\n",
              "       [    60,  46000],\n",
              "       [    60,  83000],\n",
              "       [    39,  73000],\n",
              "       [    59, 130000],\n",
              "       [    37,  80000],\n",
              "       [    46,  32000],\n",
              "       [    46,  74000],\n",
              "       [    42,  53000],\n",
              "       [    41,  87000],\n",
              "       [    58,  23000],\n",
              "       [    42,  64000],\n",
              "       [    48,  33000],\n",
              "       [    44, 139000],\n",
              "       [    49,  28000],\n",
              "       [    57,  33000],\n",
              "       [    56,  60000],\n",
              "       [    49,  39000],\n",
              "       [    39,  71000],\n",
              "       [    47,  34000],\n",
              "       [    48,  35000],\n",
              "       [    48,  33000],\n",
              "       [    47,  23000],\n",
              "       [    45,  45000],\n",
              "       [    60,  42000],\n",
              "       [    39,  59000],\n",
              "       [    46,  41000],\n",
              "       [    51,  23000],\n",
              "       [    50,  20000],\n",
              "       [    36,  33000],\n",
              "       [    49,  36000]])"
            ]
          },
          "metadata": {},
          "execution_count": 355
        }
      ]
    },
    {
      "cell_type": "code",
      "source": [
        "X.shape"
      ],
      "metadata": {
        "colab": {
          "base_uri": "https://localhost:8080/"
        },
        "id": "dW8bB2iphJEZ",
        "outputId": "c4e0fa8e-4543-47c8-aa1d-623f7a12af05"
      },
      "execution_count": 356,
      "outputs": [
        {
          "output_type": "execute_result",
          "data": {
            "text/plain": [
              "(400, 2)"
            ]
          },
          "metadata": {},
          "execution_count": 356
        }
      ]
    },
    {
      "cell_type": "code",
      "source": [
        "y = df.iloc[:,-1].values\n",
        "y"
      ],
      "metadata": {
        "id": "GWWFIuJTGTO7",
        "colab": {
          "base_uri": "https://localhost:8080/"
        },
        "outputId": "8abea479-f774-4ac7-a24b-0695c5152b66"
      },
      "execution_count": 357,
      "outputs": [
        {
          "output_type": "execute_result",
          "data": {
            "text/plain": [
              "array([0, 0, 0, 0, 0, 0, 0, 1, 0, 0, 0, 0, 0, 0, 0, 0, 1, 1, 1, 1, 1, 1,\n",
              "       1, 1, 1, 1, 1, 1, 0, 0, 0, 1, 0, 0, 0, 0, 0, 0, 0, 0, 0, 0, 0, 0,\n",
              "       0, 0, 0, 0, 1, 0, 0, 0, 0, 0, 0, 0, 0, 0, 0, 0, 0, 0, 0, 1, 0, 0,\n",
              "       0, 0, 0, 0, 0, 0, 0, 0, 0, 1, 0, 0, 0, 0, 0, 0, 0, 0, 0, 1, 0, 0,\n",
              "       0, 0, 0, 0, 0, 0, 0, 0, 0, 1, 0, 0, 0, 0, 0, 1, 0, 0, 0, 0, 0, 0,\n",
              "       0, 0, 0, 0, 0, 0, 0, 0, 0, 0, 0, 0, 0, 0, 0, 0, 0, 0, 0, 0, 0, 0,\n",
              "       0, 0, 0, 0, 0, 1, 0, 0, 0, 0, 0, 0, 0, 0, 1, 0, 0, 0, 0, 0, 0, 0,\n",
              "       0, 0, 0, 0, 0, 1, 1, 0, 0, 0, 0, 0, 0, 0, 1, 0, 0, 0, 0, 0, 0, 0,\n",
              "       0, 0, 0, 0, 0, 0, 1, 0, 0, 0, 0, 0, 0, 0, 0, 0, 0, 0, 0, 0, 0, 0,\n",
              "       0, 0, 0, 0, 1, 0, 1, 0, 1, 0, 1, 0, 1, 1, 0, 0, 0, 1, 0, 0, 0, 1,\n",
              "       0, 1, 1, 1, 0, 0, 1, 1, 0, 1, 1, 0, 1, 1, 0, 1, 0, 0, 0, 1, 1, 0,\n",
              "       1, 1, 0, 1, 0, 1, 0, 1, 0, 0, 1, 1, 0, 1, 0, 0, 1, 1, 0, 1, 1, 0,\n",
              "       1, 1, 0, 0, 1, 0, 0, 1, 1, 1, 1, 1, 0, 1, 1, 1, 1, 0, 1, 1, 0, 1,\n",
              "       0, 1, 0, 1, 1, 1, 1, 0, 0, 0, 1, 1, 0, 1, 1, 1, 1, 1, 0, 0, 0, 1,\n",
              "       1, 0, 0, 1, 0, 1, 0, 1, 1, 0, 1, 0, 1, 1, 0, 1, 1, 0, 0, 0, 1, 1,\n",
              "       0, 1, 0, 0, 1, 0, 1, 0, 0, 1, 1, 0, 0, 1, 1, 0, 1, 1, 0, 0, 1, 0,\n",
              "       1, 0, 1, 1, 1, 0, 1, 0, 1, 1, 1, 0, 1, 1, 1, 1, 0, 1, 1, 1, 0, 1,\n",
              "       0, 1, 0, 0, 1, 1, 0, 1, 1, 1, 1, 1, 1, 0, 1, 1, 1, 1, 1, 1, 0, 1,\n",
              "       1, 1, 0, 1])"
            ]
          },
          "metadata": {},
          "execution_count": 357
        }
      ]
    },
    {
      "cell_type": "code",
      "source": [
        "y.shape"
      ],
      "metadata": {
        "colab": {
          "base_uri": "https://localhost:8080/"
        },
        "id": "zCPSLZpkhBcA",
        "outputId": "f876a4fe-1705-4309-956b-3b86d3c637bd"
      },
      "execution_count": 358,
      "outputs": [
        {
          "output_type": "execute_result",
          "data": {
            "text/plain": [
              "(400,)"
            ]
          },
          "metadata": {},
          "execution_count": 358
        }
      ]
    },
    {
      "cell_type": "markdown",
      "metadata": {
        "id": "_lrDXgjIgGJ3"
      },
      "source": [
        "**Splitting the dataset into the Training set and Test set**"
      ]
    },
    {
      "cell_type": "code",
      "metadata": {
        "id": "z2QWVTZUfyUB"
      },
      "source": [
        "from sklearn.model_selection import train_test_split\n",
        "X_train,X_test,y_train,y_test = train_test_split(X,y,test_size=0.3)"
      ],
      "execution_count": 359,
      "outputs": []
    },
    {
      "cell_type": "code",
      "source": [
        "X_train.shape"
      ],
      "metadata": {
        "colab": {
          "base_uri": "https://localhost:8080/"
        },
        "id": "6KaIwzBNiCsI",
        "outputId": "4f398be6-d86b-41ca-ee04-3b5ea6f324b7"
      },
      "execution_count": 360,
      "outputs": [
        {
          "output_type": "execute_result",
          "data": {
            "text/plain": [
              "(280, 2)"
            ]
          },
          "metadata": {},
          "execution_count": 360
        }
      ]
    },
    {
      "cell_type": "code",
      "source": [
        "X_test.shape"
      ],
      "metadata": {
        "colab": {
          "base_uri": "https://localhost:8080/"
        },
        "id": "ejbhk5TziHZA",
        "outputId": "5bfa4cbd-fd8d-4ab0-9d2f-99d80aaf0b4e"
      },
      "execution_count": 361,
      "outputs": [
        {
          "output_type": "execute_result",
          "data": {
            "text/plain": [
              "(120, 2)"
            ]
          },
          "metadata": {},
          "execution_count": 361
        }
      ]
    },
    {
      "cell_type": "markdown",
      "metadata": {
        "id": "XmzkAVfggNrD"
      },
      "source": [
        "**Feature Scaling**"
      ]
    },
    {
      "cell_type": "code",
      "metadata": {
        "id": "UZUJ4Xn4fyW6"
      },
      "source": [
        "from sklearn.preprocessing import StandardScaler"
      ],
      "execution_count": 362,
      "outputs": []
    },
    {
      "cell_type": "code",
      "source": [
        "sc_x = StandardScaler()"
      ],
      "metadata": {
        "id": "pF9vON-WGhl3"
      },
      "execution_count": 363,
      "outputs": []
    },
    {
      "cell_type": "code",
      "source": [
        "X_train = sc_x.fit_transform(X_train)"
      ],
      "metadata": {
        "id": "qK4wQrh4GhiT"
      },
      "execution_count": 364,
      "outputs": []
    },
    {
      "cell_type": "code",
      "source": [
        "X_test = sc_x.transform(X_test)"
      ],
      "metadata": {
        "id": "58foQnfZGha-"
      },
      "execution_count": 365,
      "outputs": []
    },
    {
      "cell_type": "code",
      "source": [
        "X_train"
      ],
      "metadata": {
        "colab": {
          "base_uri": "https://localhost:8080/"
        },
        "id": "jGGd7ucHGhNS",
        "outputId": "3f0fb1e3-0a40-43cc-a2a1-07a112d6363a"
      },
      "execution_count": 366,
      "outputs": [
        {
          "output_type": "execute_result",
          "data": {
            "text/plain": [
              "array([[-0.09007474, -0.57490228],\n",
              "       [-0.27899555, -1.3080624 ],\n",
              "       [ 1.70467295,  1.6245781 ],\n",
              "       [-1.69590163,  0.18758426],\n",
              "       [ 1.04345012,  1.44861967],\n",
              "       [-0.37345596,  1.27266124],\n",
              "       [ 1.32683133,  2.24043261],\n",
              "       [-0.37345596, -0.28163823],\n",
              "       [ 1.04345012, -1.16143038],\n",
              "       [-0.56237677,  0.04095223],\n",
              "       [-1.1291392 , -1.07345116],\n",
              "       [-0.65683717,  1.09670281],\n",
              "       [ 0.57114809,  1.85918935],\n",
              "       [-0.18453515,  0.15825785],\n",
              "       [ 1.32683133,  1.88851575],\n",
              "       [ 0.00438566, -0.36961744],\n",
              "       [-1.2235996 ,  0.56882752],\n",
              "       [ 0.85452931, -1.22008319],\n",
              "       [-0.56237677, -1.60132645],\n",
              "       [-1.60144122,  0.12893145],\n",
              "       [-0.56237677, -1.51334724],\n",
              "       [ 2.17697497, -0.6922079 ],\n",
              "       [ 0.38222728, -0.19365901],\n",
              "       [ 2.17697497, -0.80951352],\n",
              "       [-0.56237677,  0.56882752],\n",
              "       [ 1.51575214,  0.07027864],\n",
              "       [ 0.85452931,  1.38996686],\n",
              "       [-0.37345596, -1.22008319],\n",
              "       [ 0.19330647,  1.53659889],\n",
              "       [ 0.85452931,  0.27556347],\n",
              "       [ 0.28776688, -0.31096463],\n",
              "       [ 0.38222728, -1.16143038],\n",
              "       [ 1.13791052,  0.56882752],\n",
              "       [-0.94021839, -0.36961744],\n",
              "       [ 0.09884607, -0.57490228],\n",
              "       [ 0.38222728,  0.07027864],\n",
              "       [ 1.04345012,  2.00582137],\n",
              "       [-0.18453515, -0.36961744],\n",
              "       [ 0.28776688, -0.66288149],\n",
              "       [ 0.19330647, -0.25231182],\n",
              "       [-1.03467879, -1.57200005],\n",
              "       [ 1.04345012,  1.80053654],\n",
              "       [-0.84575798, -0.75086071],\n",
              "       [ 0.7600689 ,  1.80053654],\n",
              "       [-0.09007474,  1.65390451],\n",
              "       [ 1.89359376,  0.12893145],\n",
              "       [ 0.28776688, -0.1350062 ],\n",
              "       [-1.69590163, -1.48402083],\n",
              "       [-0.94021839,  1.97649497],\n",
              "       [-1.03467879, -1.54267364],\n",
              "       [ 0.00438566,  0.12893145],\n",
              "       [-0.75129758, -0.25231182],\n",
              "       [ 0.38222728,  0.04095223],\n",
              "       [ 0.94898971, -1.04412476],\n",
              "       [ 0.00438566,  2.24043261],\n",
              "       [-0.18453515,  1.12602922],\n",
              "       [ 0.00438566, -1.07345116],\n",
              "       [-1.41252041,  0.33421628],\n",
              "       [-0.18453515,  0.09960504],\n",
              "       [-1.03467879,  0.4221955 ],\n",
              "       [ 0.85452931, -1.39604162],\n",
              "       [ 2.17697497,  0.95007079],\n",
              "       [-0.18453515,  0.07027864],\n",
              "       [-0.37345596,  2.32841183],\n",
              "       [-0.56237677, -0.34029104],\n",
              "       [ 0.47668769, -0.1350062 ],\n",
              "       [ 0.09884607, -0.42827025],\n",
              "       [ 0.85452931, -0.83883992],\n",
              "       [-1.50698082,  0.53950112],\n",
              "       [ 2.08251457, -1.19075678],\n",
              "       [ 0.00438566, -0.51624947],\n",
              "       [-1.69590163, -1.278736  ],\n",
              "       [-0.18453515, -1.24940959],\n",
              "       [ 0.6656085 , -0.89749273],\n",
              "       [ 0.6656085 ,  2.03514778],\n",
              "       [ 0.00438566, -0.48692306],\n",
              "       [-1.79036203,  0.36354269],\n",
              "       [ 0.47668769,  0.27556347],\n",
              "       [ 1.04345012, -0.83883992],\n",
              "       [-1.03467879, -1.01479835],\n",
              "       [-0.37345596, -0.54557587],\n",
              "       [ 0.00438566,  0.21691066],\n",
              "       [-0.37345596, -1.13210397],\n",
              "       [ 0.38222728,  0.30488988],\n",
              "       [-0.09007474, -0.19365901],\n",
              "       [ 1.23237093, -1.45469443],\n",
              "       [ 0.28776688,  0.07027864],\n",
              "       [ 0.7600689 , -1.39604162],\n",
              "       [-0.56237677,  0.18758426],\n",
              "       [ 0.19330647,  0.09960504],\n",
              "       [ 0.94898971, -0.78018711],\n",
              "       [ 0.47668769, -0.45759666],\n",
              "       [ 1.04345012,  2.09380059],\n",
              "       [-0.84575798,  0.27556347],\n",
              "       [-0.18453515,  0.62748033],\n",
              "       [ 2.08251457,  1.77121013],\n",
              "       [-1.1291392 ,  0.30488988],\n",
              "       [ 1.89359376,  1.53659889],\n",
              "       [ 0.85452931,  0.53950112],\n",
              "       [ 0.57114809,  1.74188373],\n",
              "       [ 0.28776688, -0.25231182],\n",
              "       [ 0.09884607,  0.04095223],\n",
              "       [ 1.51575214,  1.0087236 ],\n",
              "       [-0.18453515, -0.28163823],\n",
              "       [-0.84575798,  0.4221955 ],\n",
              "       [ 2.17697497,  0.39286909],\n",
              "       [-0.84575798,  0.4515219 ],\n",
              "       [-1.2235996 , -0.42827025],\n",
              "       [ 0.28776688,  0.15825785],\n",
              "       [ 1.61021254,  0.01162582],\n",
              "       [-0.84575798, -0.31096463],\n",
              "       [-1.50698082,  0.07027864],\n",
              "       [-1.03467879, -1.60132645],\n",
              "       [-0.46791636,  0.89141798],\n",
              "       [-0.56237677, -1.04412476],\n",
              "       [ 0.00438566, -0.22298542],\n",
              "       [ 1.61021254,  1.0087236 ],\n",
              "       [-0.75129758, -1.22008319],\n",
              "       [-0.46791636,  1.47794608],\n",
              "       [-0.18453515, -0.57490228],\n",
              "       [-0.75129758,  0.30488988],\n",
              "       [-0.18453515, -0.48692306],\n",
              "       [-0.46791636,  2.35773823],\n",
              "       [ 1.51575214,  2.1524534 ],\n",
              "       [-1.03467879,  1.41929327],\n",
              "       [ 1.70467295,  1.77121013],\n",
              "       [ 0.85452931,  0.77411236],\n",
              "       [ 1.13791052,  0.48084831],\n",
              "       [-1.69590163,  0.01162582],\n",
              "       [-1.60144122,  0.36354269],\n",
              "       [-0.18453515,  0.21691066],\n",
              "       [ 0.19330647,  0.15825785],\n",
              "       [ 0.38222728, -0.31096463],\n",
              "       [ 0.38222728, -0.7215343 ],\n",
              "       [-0.09007474,  0.86209157],\n",
              "       [ 0.7600689 , -0.7215343 ],\n",
              "       [-1.03467879, -1.10277757],\n",
              "       [ 1.42129174, -1.42536802],\n",
              "       [ 0.19330647,  1.88851575],\n",
              "       [-1.41252041, -0.42827025],\n",
              "       [-0.94021839,  0.59815393],\n",
              "       [ 2.17697497,  1.12602922],\n",
              "       [-0.18453515, -1.39604162],\n",
              "       [-0.18453515, -0.34029104],\n",
              "       [ 1.42129174,  1.30198765],\n",
              "       [ 1.13791052,  0.12893145],\n",
              "       [ 0.85452931,  0.36354269],\n",
              "       [-0.18453515,  0.07027864],\n",
              "       [ 0.94898971,  1.09670281],\n",
              "       [-1.03467879,  0.33421628],\n",
              "       [ 0.47668769, -0.45759666],\n",
              "       [-0.65683717, -0.60422868],\n",
              "       [ 0.09884607,  1.24333484],\n",
              "       [-0.18453515, -0.25231182],\n",
              "       [-0.18453515, -0.1350062 ],\n",
              "       [-0.18453515, -0.57490228],\n",
              "       [-1.2235996 , -0.42827025],\n",
              "       [-0.18453515,  0.53950112],\n",
              "       [-0.27899555, -0.78018711],\n",
              "       [-0.18453515,  0.27556347],\n",
              "       [-0.94021839, -0.34029104],\n",
              "       [-0.84575798, -0.95614554],\n",
              "       [ 0.94898971,  1.03805   ],\n",
              "       [ 0.00438566,  0.24623707],\n",
              "       [ 0.09884607, -0.25231182],\n",
              "       [-0.75129758,  0.39286909],\n",
              "       [ 1.42129174,  2.35773823],\n",
              "       [-0.94021839, -1.45469443],\n",
              "       [-1.1291392 ,  0.59815393],\n",
              "       [-1.1291392 , -1.39604162],\n",
              "       [ 1.13791052,  2.09380059],\n",
              "       [ 1.51575214, -1.04412476],\n",
              "       [-0.65683717,  0.51017471],\n",
              "       [ 0.38222728,  0.27556347],\n",
              "       [-0.18453515, -0.42827025],\n",
              "       [-1.31806001, -1.45469443],\n",
              "       [-0.56237677, -0.1056798 ],\n",
              "       [-0.65683717, -0.22298542],\n",
              "       [-1.69590163, -1.3080624 ],\n",
              "       [-0.94021839,  0.53950112],\n",
              "       [-1.03467879, -1.16143038],\n",
              "       [ 1.13791052, -0.89749273],\n",
              "       [ 0.38222728, -0.51624947],\n",
              "       [-0.84575798, -0.31096463],\n",
              "       [ 1.04345012, -1.19075678],\n",
              "       [-0.46791636,  1.38996686],\n",
              "       [ 0.47668769,  2.32841183],\n",
              "       [-1.79036203, -0.75086071],\n",
              "       [-1.60144122,  0.36354269],\n",
              "       [ 0.94898971,  2.1817798 ],\n",
              "       [-1.1291392 ,  0.27556347],\n",
              "       [ 0.94898971, -0.57490228],\n",
              "       [ 0.38222728,  0.07027864],\n",
              "       [-0.56237677, -0.04702699],\n",
              "       [-0.65683717, -1.54267364],\n",
              "       [-1.60144122, -1.36671521],\n",
              "       [-0.75129758, -0.66288149],\n",
              "       [-1.41252041, -0.19365901],\n",
              "       [-1.79036203,  0.48084831],\n",
              "       [-0.84575798, -0.42827025],\n",
              "       [-1.2235996 , -1.48402083],\n",
              "       [ 0.00438566,  0.01162582],\n",
              "       [-0.18453515, -0.89749273],\n",
              "       [-0.56237677,  0.12893145],\n",
              "       [-0.46791636, -1.51334724],\n",
              "       [ 0.47668769, -0.48692306],\n",
              "       [-0.18453515,  2.26975902],\n",
              "       [-0.75129758,  0.39286909],\n",
              "       [ 2.08251457,  0.53950112],\n",
              "       [-0.18453515, -1.36671521],\n",
              "       [-1.60144122, -0.60422868],\n",
              "       [-1.31806001, -0.19365901],\n",
              "       [ 0.28776688, -0.36961744],\n",
              "       [ 1.98805416, -0.92681914],\n",
              "       [ 0.19330647, -0.31096463],\n",
              "       [-0.18453515, -0.66288149],\n",
              "       [ 0.00438566,  1.97649497],\n",
              "       [-0.18453515, -0.31096463],\n",
              "       [ 0.7600689 , -1.278736  ],\n",
              "       [ 0.94898971, -1.3080624 ],\n",
              "       [ 0.28776688,  0.04095223],\n",
              "       [-0.75129758, -0.78018711],\n",
              "       [-1.2235996 , -0.34029104],\n",
              "       [ 1.13791052,  0.53950112],\n",
              "       [ 0.47668769,  0.01162582],\n",
              "       [-1.03467879,  0.30488988],\n",
              "       [ 0.38222728,  0.07027864],\n",
              "       [ 1.98805416,  2.1817798 ],\n",
              "       [ 2.08251457,  0.18758426],\n",
              "       [ 0.09884607,  0.30488988],\n",
              "       [-0.09007474, -0.45759666],\n",
              "       [ 0.19330647, -0.80951352],\n",
              "       [-0.94021839, -0.34029104],\n",
              "       [-0.65683717,  0.27556347],\n",
              "       [ 1.13791052, -1.22008319],\n",
              "       [ 1.13791052, -0.1350062 ],\n",
              "       [ 2.17697497, -0.80951352],\n",
              "       [-1.79036203, -0.51624947],\n",
              "       [-1.79036203, -0.04702699],\n",
              "       [ 1.98805416, -0.66288149],\n",
              "       [-0.18453515,  0.15825785],\n",
              "       [ 1.98805416,  0.92074438],\n",
              "       [ 0.47668769,  0.30488988],\n",
              "       [-1.31806001, -0.63355509],\n",
              "       [-1.03467879,  0.07027864],\n",
              "       [-1.31806001, -1.22008319],\n",
              "       [ 2.08251457,  0.39286909],\n",
              "       [ 0.09884607, -0.31096463],\n",
              "       [ 1.13791052, -1.22008319],\n",
              "       [-1.50698082, -0.04702699],\n",
              "       [ 2.08251457, -0.80951352],\n",
              "       [-0.09007474,  0.15825785],\n",
              "       [ 0.19330647,  1.88851575],\n",
              "       [ 0.09884607,  1.27266124],\n",
              "       [-0.94021839, -0.45759666],\n",
              "       [-0.75129758,  2.29908542],\n",
              "       [-0.56237677,  1.41929327],\n",
              "       [-0.94021839,  0.77411236],\n",
              "       [ 1.04345012, -1.07345116],\n",
              "       [-0.46791636, -1.51334724],\n",
              "       [ 1.98805416,  0.74478595],\n",
              "       [-1.03467879,  0.30488988],\n",
              "       [-0.65683717,  0.56882752],\n",
              "       [ 0.7600689 , -1.10277757],\n",
              "       [-0.65683717, -1.60132645],\n",
              "       [ 0.7600689 , -1.39604162],\n",
              "       [ 0.19330647,  0.04095223],\n",
              "       [-1.1291392 ,  0.51017471],\n",
              "       [-1.2235996 , -1.36671521],\n",
              "       [-0.37345596, -0.83883992],\n",
              "       [-0.75129758, -0.78018711],\n",
              "       [ 0.38222728,  0.51017471],\n",
              "       [ 0.09884607, -0.57490228],\n",
              "       [-0.94021839,  0.4221955 ],\n",
              "       [-0.18453515,  0.80343876],\n",
              "       [-0.18453515, -1.3080624 ],\n",
              "       [-1.31806001,  0.36354269],\n",
              "       [ 0.00438566,  0.07027864],\n",
              "       [-0.18453515, -0.92681914],\n",
              "       [ 0.94898971, -1.36671521]])"
            ]
          },
          "metadata": {},
          "execution_count": 366
        }
      ]
    },
    {
      "cell_type": "code",
      "source": [
        "X_test"
      ],
      "metadata": {
        "colab": {
          "base_uri": "https://localhost:8080/"
        },
        "id": "rsrgVnC-Go9E",
        "outputId": "92f9c420-f534-4cb8-cb12-4722575b2517"
      },
      "execution_count": 367,
      "outputs": [
        {
          "output_type": "execute_result",
          "data": {
            "text/plain": [
              "array([[ 0.85452931, -1.36671521],\n",
              "       [ 0.28776688, -0.36961744],\n",
              "       [ 1.23237093, -0.98547195],\n",
              "       [-1.03467879, -0.78018711],\n",
              "       [-0.84575798,  1.56592529],\n",
              "       [-0.84575798,  0.56882752],\n",
              "       [-1.03467879, -0.51624947],\n",
              "       [ 0.00438566,  0.04095223],\n",
              "       [-0.75129758,  0.15825785],\n",
              "       [ 0.28776688,  0.15825785],\n",
              "       [ 0.94898971, -1.45469443],\n",
              "       [-0.27899555,  1.33131405],\n",
              "       [ 0.47668769, -0.1350062 ],\n",
              "       [ 0.47668769,  1.12602922],\n",
              "       [-0.09007474, -1.07345116],\n",
              "       [ 0.09884607, -0.54557587],\n",
              "       [ 0.19330647,  0.04095223],\n",
              "       [-1.41252041, -1.51334724],\n",
              "       [ 0.19330647, -0.80951352],\n",
              "       [-1.2235996 , -1.10277757],\n",
              "       [ 1.89359376, -0.28163823],\n",
              "       [ 0.94898971, -0.60422868],\n",
              "       [ 0.38222728, -0.51624947],\n",
              "       [ 1.70467295, -0.89749273],\n",
              "       [ 0.19330647,  1.06737641],\n",
              "       [ 0.28776688,  0.24623707],\n",
              "       [-1.03467879,  0.48084831],\n",
              "       [ 0.19330647,  0.27556347],\n",
              "       [-0.46791636,  1.38996686],\n",
              "       [-0.09007474, -0.28163823],\n",
              "       [-0.37345596, -0.78018711],\n",
              "       [-1.69590163,  0.4515219 ],\n",
              "       [ 0.47668769, -0.16433261],\n",
              "       [ 0.28776688, -0.28163823],\n",
              "       [ 0.19330647,  0.77411236],\n",
              "       [-1.2235996 ,  0.4221955 ],\n",
              "       [ 0.47668769,  0.30488988],\n",
              "       [ 0.85452931,  0.12893145],\n",
              "       [-0.94021839, -1.54267364],\n",
              "       [-1.60144122, -0.98547195],\n",
              "       [ 0.00438566,  0.68613314],\n",
              "       [ 1.42129174, -0.92681914],\n",
              "       [ 0.38222728, -0.28163823],\n",
              "       [ 1.04345012,  1.88851575],\n",
              "       [-0.84575798,  0.51017471],\n",
              "       [ 0.00438566,  0.27556347],\n",
              "       [-1.31806001, -0.1056798 ],\n",
              "       [ 1.23237093, -0.75086071],\n",
              "       [ 1.04345012,  0.12893145],\n",
              "       [-0.18453515, -1.45469443],\n",
              "       [ 1.42129174,  0.59815393],\n",
              "       [ 0.7600689 ,  0.27556347],\n",
              "       [-0.18453515,  0.04095223],\n",
              "       [ 0.57114809,  1.24333484],\n",
              "       [-0.09007474,  1.41929327],\n",
              "       [ 0.47668769,  0.09960504],\n",
              "       [ 0.94898971, -1.16143038],\n",
              "       [-1.03467879, -1.60132645],\n",
              "       [ 0.94898971, -0.66288149],\n",
              "       [ 0.09884607, -0.1350062 ],\n",
              "       [ 0.94898971,  1.27266124],\n",
              "       [ 0.00438566, -0.42827025],\n",
              "       [-1.41252041, -1.24940959],\n",
              "       [ 1.04345012,  0.59815393],\n",
              "       [-0.65683717,  1.91784216],\n",
              "       [ 1.61021254,  1.12602922],\n",
              "       [ 0.09884607, -0.25231182],\n",
              "       [ 1.32683133, -1.36671521],\n",
              "       [-1.60144122,  0.48084831],\n",
              "       [ 0.28776688,  2.12312699],\n",
              "       [ 1.42129174,  2.00582137],\n",
              "       [ 1.79913335,  1.85918935],\n",
              "       [ 0.47668769,  0.59815393],\n",
              "       [ 1.89359376, -1.278736  ],\n",
              "       [ 1.04345012,  0.77411236],\n",
              "       [ 1.04345012, -1.07345116],\n",
              "       [-0.27899555, -0.78018711],\n",
              "       [ 1.61021254, -1.278736  ],\n",
              "       [-0.09007474,  2.1817798 ],\n",
              "       [ 0.38222728,  0.07027864],\n",
              "       [-0.65683717,  0.30488988],\n",
              "       [ 0.00438566,  0.30488988],\n",
              "       [-0.27899555,  0.07027864],\n",
              "       [-1.2235996 , -1.24940959],\n",
              "       [-0.09007474,  1.6245781 ],\n",
              "       [ 0.00438566,  0.30488988],\n",
              "       [-0.37345596, -0.01770058],\n",
              "       [ 1.89359376, -1.07345116],\n",
              "       [-0.18453515, -0.75086071],\n",
              "       [ 0.47668769,  0.15825785],\n",
              "       [ 0.28776688, -0.36961744],\n",
              "       [-0.46791636,  1.91784216],\n",
              "       [ 0.94898971, -0.54557587],\n",
              "       [ 1.79913335,  1.0087236 ],\n",
              "       [ 1.04345012, -1.01479835],\n",
              "       [ 1.79913335, -0.28163823],\n",
              "       [-0.65683717,  1.36064046],\n",
              "       [ 1.51575214,  0.36354269],\n",
              "       [ 2.17697497, -1.04412476],\n",
              "       [ 0.28776688,  1.09670281],\n",
              "       [-0.46791636,  0.48084831],\n",
              "       [ 1.23237093,  0.53950112],\n",
              "       [ 0.00438566,  0.15825785],\n",
              "       [ 0.85452931, -0.31096463],\n",
              "       [ 2.08251457,  2.1524534 ],\n",
              "       [ 0.38222728, -0.54557587],\n",
              "       [-0.94021839,  0.56882752],\n",
              "       [ 0.09884607,  0.04095223],\n",
              "       [ 0.19330647,  0.21691066],\n",
              "       [-1.50698082, -1.57200005],\n",
              "       [-0.94021839, -1.13210397],\n",
              "       [ 0.85452931, -1.10277757],\n",
              "       [ 0.47668769,  1.0087236 ],\n",
              "       [ 1.13791052, -0.98547195],\n",
              "       [ 0.00438566,  2.1817798 ],\n",
              "       [-0.09007474, -0.51624947],\n",
              "       [-1.69590163, -1.42536802],\n",
              "       [-0.27899555,  1.24333484],\n",
              "       [ 1.98805416, -1.36671521],\n",
              "       [-0.84575798, -1.10277757]])"
            ]
          },
          "metadata": {},
          "execution_count": 367
        }
      ]
    },
    {
      "cell_type": "code",
      "source": [
        "df.describe()"
      ],
      "metadata": {
        "colab": {
          "base_uri": "https://localhost:8080/",
          "height": 300
        },
        "id": "Vs8f5mHKGuTV",
        "outputId": "d9cce50c-9334-44b0-cfd5-ac2f33d11ef5"
      },
      "execution_count": 368,
      "outputs": [
        {
          "output_type": "execute_result",
          "data": {
            "text/plain": [
              "            User ID         Age  EstimatedSalary   Purchased\n",
              "count  4.000000e+02  400.000000       400.000000  400.000000\n",
              "mean   1.569154e+07   37.655000     69742.500000    0.357500\n",
              "std    7.165832e+04   10.482877     34096.960282    0.479864\n",
              "min    1.556669e+07   18.000000     15000.000000    0.000000\n",
              "25%    1.562676e+07   29.750000     43000.000000    0.000000\n",
              "50%    1.569434e+07   37.000000     70000.000000    0.000000\n",
              "75%    1.575036e+07   46.000000     88000.000000    1.000000\n",
              "max    1.581524e+07   60.000000    150000.000000    1.000000"
            ],
            "text/html": [
              "\n",
              "  <div id=\"df-0ebfddc7-e486-471e-8577-31fff09ec754\">\n",
              "    <div class=\"colab-df-container\">\n",
              "      <div>\n",
              "<style scoped>\n",
              "    .dataframe tbody tr th:only-of-type {\n",
              "        vertical-align: middle;\n",
              "    }\n",
              "\n",
              "    .dataframe tbody tr th {\n",
              "        vertical-align: top;\n",
              "    }\n",
              "\n",
              "    .dataframe thead th {\n",
              "        text-align: right;\n",
              "    }\n",
              "</style>\n",
              "<table border=\"1\" class=\"dataframe\">\n",
              "  <thead>\n",
              "    <tr style=\"text-align: right;\">\n",
              "      <th></th>\n",
              "      <th>User ID</th>\n",
              "      <th>Age</th>\n",
              "      <th>EstimatedSalary</th>\n",
              "      <th>Purchased</th>\n",
              "    </tr>\n",
              "  </thead>\n",
              "  <tbody>\n",
              "    <tr>\n",
              "      <th>count</th>\n",
              "      <td>4.000000e+02</td>\n",
              "      <td>400.000000</td>\n",
              "      <td>400.000000</td>\n",
              "      <td>400.000000</td>\n",
              "    </tr>\n",
              "    <tr>\n",
              "      <th>mean</th>\n",
              "      <td>1.569154e+07</td>\n",
              "      <td>37.655000</td>\n",
              "      <td>69742.500000</td>\n",
              "      <td>0.357500</td>\n",
              "    </tr>\n",
              "    <tr>\n",
              "      <th>std</th>\n",
              "      <td>7.165832e+04</td>\n",
              "      <td>10.482877</td>\n",
              "      <td>34096.960282</td>\n",
              "      <td>0.479864</td>\n",
              "    </tr>\n",
              "    <tr>\n",
              "      <th>min</th>\n",
              "      <td>1.556669e+07</td>\n",
              "      <td>18.000000</td>\n",
              "      <td>15000.000000</td>\n",
              "      <td>0.000000</td>\n",
              "    </tr>\n",
              "    <tr>\n",
              "      <th>25%</th>\n",
              "      <td>1.562676e+07</td>\n",
              "      <td>29.750000</td>\n",
              "      <td>43000.000000</td>\n",
              "      <td>0.000000</td>\n",
              "    </tr>\n",
              "    <tr>\n",
              "      <th>50%</th>\n",
              "      <td>1.569434e+07</td>\n",
              "      <td>37.000000</td>\n",
              "      <td>70000.000000</td>\n",
              "      <td>0.000000</td>\n",
              "    </tr>\n",
              "    <tr>\n",
              "      <th>75%</th>\n",
              "      <td>1.575036e+07</td>\n",
              "      <td>46.000000</td>\n",
              "      <td>88000.000000</td>\n",
              "      <td>1.000000</td>\n",
              "    </tr>\n",
              "    <tr>\n",
              "      <th>max</th>\n",
              "      <td>1.581524e+07</td>\n",
              "      <td>60.000000</td>\n",
              "      <td>150000.000000</td>\n",
              "      <td>1.000000</td>\n",
              "    </tr>\n",
              "  </tbody>\n",
              "</table>\n",
              "</div>\n",
              "      <button class=\"colab-df-convert\" onclick=\"convertToInteractive('df-0ebfddc7-e486-471e-8577-31fff09ec754')\"\n",
              "              title=\"Convert this dataframe to an interactive table.\"\n",
              "              style=\"display:none;\">\n",
              "        \n",
              "  <svg xmlns=\"http://www.w3.org/2000/svg\" height=\"24px\"viewBox=\"0 0 24 24\"\n",
              "       width=\"24px\">\n",
              "    <path d=\"M0 0h24v24H0V0z\" fill=\"none\"/>\n",
              "    <path d=\"M18.56 5.44l.94 2.06.94-2.06 2.06-.94-2.06-.94-.94-2.06-.94 2.06-2.06.94zm-11 1L8.5 8.5l.94-2.06 2.06-.94-2.06-.94L8.5 2.5l-.94 2.06-2.06.94zm10 10l.94 2.06.94-2.06 2.06-.94-2.06-.94-.94-2.06-.94 2.06-2.06.94z\"/><path d=\"M17.41 7.96l-1.37-1.37c-.4-.4-.92-.59-1.43-.59-.52 0-1.04.2-1.43.59L10.3 9.45l-7.72 7.72c-.78.78-.78 2.05 0 2.83L4 21.41c.39.39.9.59 1.41.59.51 0 1.02-.2 1.41-.59l7.78-7.78 2.81-2.81c.8-.78.8-2.07 0-2.86zM5.41 20L4 18.59l7.72-7.72 1.47 1.35L5.41 20z\"/>\n",
              "  </svg>\n",
              "      </button>\n",
              "      \n",
              "  <style>\n",
              "    .colab-df-container {\n",
              "      display:flex;\n",
              "      flex-wrap:wrap;\n",
              "      gap: 12px;\n",
              "    }\n",
              "\n",
              "    .colab-df-convert {\n",
              "      background-color: #E8F0FE;\n",
              "      border: none;\n",
              "      border-radius: 50%;\n",
              "      cursor: pointer;\n",
              "      display: none;\n",
              "      fill: #1967D2;\n",
              "      height: 32px;\n",
              "      padding: 0 0 0 0;\n",
              "      width: 32px;\n",
              "    }\n",
              "\n",
              "    .colab-df-convert:hover {\n",
              "      background-color: #E2EBFA;\n",
              "      box-shadow: 0px 1px 2px rgba(60, 64, 67, 0.3), 0px 1px 3px 1px rgba(60, 64, 67, 0.15);\n",
              "      fill: #174EA6;\n",
              "    }\n",
              "\n",
              "    [theme=dark] .colab-df-convert {\n",
              "      background-color: #3B4455;\n",
              "      fill: #D2E3FC;\n",
              "    }\n",
              "\n",
              "    [theme=dark] .colab-df-convert:hover {\n",
              "      background-color: #434B5C;\n",
              "      box-shadow: 0px 1px 3px 1px rgba(0, 0, 0, 0.15);\n",
              "      filter: drop-shadow(0px 1px 2px rgba(0, 0, 0, 0.3));\n",
              "      fill: #FFFFFF;\n",
              "    }\n",
              "  </style>\n",
              "\n",
              "      <script>\n",
              "        const buttonEl =\n",
              "          document.querySelector('#df-0ebfddc7-e486-471e-8577-31fff09ec754 button.colab-df-convert');\n",
              "        buttonEl.style.display =\n",
              "          google.colab.kernel.accessAllowed ? 'block' : 'none';\n",
              "\n",
              "        async function convertToInteractive(key) {\n",
              "          const element = document.querySelector('#df-0ebfddc7-e486-471e-8577-31fff09ec754');\n",
              "          const dataTable =\n",
              "            await google.colab.kernel.invokeFunction('convertToInteractive',\n",
              "                                                     [key], {});\n",
              "          if (!dataTable) return;\n",
              "\n",
              "          const docLinkHtml = 'Like what you see? Visit the ' +\n",
              "            '<a target=\"_blank\" href=https://colab.research.google.com/notebooks/data_table.ipynb>data table notebook</a>'\n",
              "            + ' to learn more about interactive tables.';\n",
              "          element.innerHTML = '';\n",
              "          dataTable['output_type'] = 'display_data';\n",
              "          await google.colab.output.renderOutput(dataTable, element);\n",
              "          const docLink = document.createElement('div');\n",
              "          docLink.innerHTML = docLinkHtml;\n",
              "          element.appendChild(docLink);\n",
              "        }\n",
              "      </script>\n",
              "    </div>\n",
              "  </div>\n",
              "  "
            ]
          },
          "metadata": {},
          "execution_count": 368
        }
      ]
    },
    {
      "cell_type": "markdown",
      "metadata": {
        "id": "BWpz-G_KgaB5"
      },
      "source": [
        "**Fitting K-NN to the Training set**"
      ]
    },
    {
      "cell_type": "code",
      "metadata": {
        "id": "5Wo68lCqfyc6",
        "colab": {
          "base_uri": "https://localhost:8080/"
        },
        "outputId": "59a12f0a-bf2d-4591-ed14-6809bb7ce6c9"
      },
      "source": [
        "from sklearn.neighbors import KNeighborsClassifier\n",
        "knn = KNeighborsClassifier(3)\n",
        "knn.fit(X_train,y_train)\n",
        "knn.score(X_test,y_test) "
      ],
      "execution_count": 369,
      "outputs": [
        {
          "output_type": "execute_result",
          "data": {
            "text/plain": [
              "0.9"
            ]
          },
          "metadata": {},
          "execution_count": 369
        }
      ]
    },
    {
      "cell_type": "markdown",
      "metadata": {
        "id": "GoGxoF-kgmlj"
      },
      "source": [
        "**Predicting the Test set results**"
      ]
    },
    {
      "cell_type": "code",
      "metadata": {
        "id": "aEOlRLkefye3",
        "colab": {
          "base_uri": "https://localhost:8080/"
        },
        "outputId": "109728e1-ae2d-465f-fc45-f20325081888"
      },
      "source": [
        "from sklearn.metrics import roc_auc_score\n",
        "\n",
        "for i in [1,2,3,4,5,6,7,8,9,10,20,50]:\n",
        "  knn = KNeighborsClassifier(i) #initialising the model\n",
        "  knn.fit(X_train,y_train) # training the model\n",
        "  print(\"K value  : \" , i, \" train score : \", knn.score(X_train,y_train) , \" cv score : \", np.mean(cross_val_score(knn, X_train, y_train, cv=10))) #predicting using the model\n",
        "\n",
        "\n",
        "knn = KNeighborsClassifier(5)\n",
        "knn.fit(X_train,y_train)\n",
        "knn.score(X_test,y_test)"
      ],
      "execution_count": 370,
      "outputs": [
        {
          "output_type": "stream",
          "name": "stdout",
          "text": [
            "K value  :  1  train score :  1.0  cv score :  0.8428571428571429\n",
            "K value  :  2  train score :  0.9214285714285714  cv score :  0.8071428571428572\n",
            "K value  :  3  train score :  0.925  cv score :  0.8857142857142856\n",
            "K value  :  4  train score :  0.9214285714285714  cv score :  0.8785714285714287\n",
            "K value  :  5  train score :  0.925  cv score :  0.9071428571428571\n",
            "K value  :  6  train score :  0.9142857142857143  cv score :  0.8892857142857142\n",
            "K value  :  7  train score :  0.9107142857142857  cv score :  0.9035714285714287\n",
            "K value  :  8  train score :  0.9071428571428571  cv score :  0.8857142857142858\n",
            "K value  :  9  train score :  0.9142857142857143  cv score :  0.8964285714285716\n",
            "K value  :  10  train score :  0.9071428571428571  cv score :  0.8928571428571429\n",
            "K value  :  20  train score :  0.9035714285714286  cv score :  0.8964285714285716\n",
            "K value  :  50  train score :  0.8607142857142858  cv score :  0.8392857142857142\n"
          ]
        },
        {
          "output_type": "execute_result",
          "data": {
            "text/plain": [
              "0.9166666666666666"
            ]
          },
          "metadata": {},
          "execution_count": 370
        }
      ]
    },
    {
      "cell_type": "code",
      "source": [
        "y_pred = knn.predict(X_test)\n",
        "\n",
        "y_pred"
      ],
      "metadata": {
        "colab": {
          "base_uri": "https://localhost:8080/"
        },
        "id": "5S3lNwOB2kIz",
        "outputId": "447ca014-73b1-418c-a3c1-c2fe0e760f0d"
      },
      "execution_count": 371,
      "outputs": [
        {
          "output_type": "execute_result",
          "data": {
            "text/plain": [
              "array([1, 0, 1, 0, 1, 0, 0, 0, 0, 0, 1, 1, 0, 1, 0, 0, 0, 0, 0, 0, 1, 1,\n",
              "       0, 1, 1, 0, 0, 0, 1, 0, 0, 0, 0, 0, 1, 0, 0, 0, 0, 0, 1, 1, 0, 1,\n",
              "       0, 0, 0, 1, 0, 0, 1, 0, 0, 1, 1, 0, 1, 0, 1, 0, 1, 0, 0, 1, 1, 1,\n",
              "       0, 1, 0, 1, 1, 1, 0, 1, 1, 1, 0, 1, 1, 0, 0, 0, 0, 0, 1, 0, 0, 1,\n",
              "       0, 0, 0, 1, 1, 1, 1, 1, 1, 1, 1, 1, 0, 1, 0, 0, 1, 0, 0, 0, 0, 0,\n",
              "       0, 1, 1, 1, 1, 0, 0, 1, 1, 0])"
            ]
          },
          "metadata": {},
          "execution_count": 371
        }
      ]
    },
    {
      "cell_type": "markdown",
      "metadata": {
        "id": "cYfKp7MQgwX7"
      },
      "source": [
        "**Making the Confusion Matrix**"
      ]
    },
    {
      "cell_type": "code",
      "metadata": {
        "id": "zFhgq3Yufyh5"
      },
      "source": [
        "from sklearn.metrics import accuracy_score, plot_roc_curve, roc_curve,roc_auc_score,confusion_matrix, f1_score"
      ],
      "execution_count": 372,
      "outputs": []
    },
    {
      "cell_type": "code",
      "metadata": {
        "id": "sp18d2Zhg4Me",
        "colab": {
          "base_uri": "https://localhost:8080/"
        },
        "outputId": "649f5aad-7ab8-4040-d1ae-2f47c61e936a"
      },
      "source": [
        "confusion_matrix(y_test,y_pred)"
      ],
      "execution_count": 373,
      "outputs": [
        {
          "output_type": "execute_result",
          "data": {
            "text/plain": [
              "array([[62,  5],\n",
              "       [ 5, 48]])"
            ]
          },
          "metadata": {},
          "execution_count": 373
        }
      ]
    },
    {
      "cell_type": "code",
      "source": [
        "knn.score(X_test,y_test)"
      ],
      "metadata": {
        "id": "COGngjtDDMfC",
        "colab": {
          "base_uri": "https://localhost:8080/"
        },
        "outputId": "5243cfb6-c08d-4777-bb74-61f64b5668f6"
      },
      "execution_count": 374,
      "outputs": [
        {
          "output_type": "execute_result",
          "data": {
            "text/plain": [
              "0.9166666666666666"
            ]
          },
          "metadata": {},
          "execution_count": 374
        }
      ]
    },
    {
      "cell_type": "code",
      "source": [
        "plot_roc_curve(knn, X_test, y_test)"
      ],
      "metadata": {
        "id": "yLtAGaKNEHAz",
        "colab": {
          "base_uri": "https://localhost:8080/",
          "height": 351
        },
        "outputId": "03666f7b-095e-44f5-c24e-d9b1b055839f"
      },
      "execution_count": 375,
      "outputs": [
        {
          "output_type": "stream",
          "name": "stderr",
          "text": [
            "/usr/local/lib/python3.8/dist-packages/sklearn/utils/deprecation.py:87: FutureWarning: Function plot_roc_curve is deprecated; Function :func:`plot_roc_curve` is deprecated in 1.0 and will be removed in 1.2. Use one of the class methods: :meth:`sklearn.metric.RocCurveDisplay.from_predictions` or :meth:`sklearn.metric.RocCurveDisplay.from_estimator`.\n",
            "  warnings.warn(msg, category=FutureWarning)\n"
          ]
        },
        {
          "output_type": "execute_result",
          "data": {
            "text/plain": [
              "<sklearn.metrics._plot.roc_curve.RocCurveDisplay at 0x7fef76e73f40>"
            ]
          },
          "metadata": {},
          "execution_count": 375
        },
        {
          "output_type": "display_data",
          "data": {
            "text/plain": [
              "<Figure size 432x288 with 1 Axes>"
            ],
            "image/png": "[encoded data removed]"
          },
          "metadata": {
            "needs_background": "light"
          }
        }
      ]
    },
    {
      "cell_type": "code",
      "source": [],
      "metadata": {
        "id": "2rTuKHK6EHSU"
      },
      "execution_count": 375,
      "outputs": []
    }
  ]
}